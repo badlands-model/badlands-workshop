{
 "cells": [
  {
   "cell_type": "code",
   "execution_count": null,
   "metadata": {},
   "outputs": [],
   "source": [
    "%matplotlib inline\n",
    "\n",
    "# Import badlands dynamic topography generation toolbox\n",
    "import badlands_companion.toolDynTopo as dispDT\n",
    "\n",
    "# display plots in SVG format\n",
    "%config InlineBackend.figure_format = 'svg'"
   ]
  },
  {
   "cell_type": "markdown",
   "metadata": {},
   "source": [
    "# Creating dynamic topography waves"
   ]
  },
  {
   "cell_type": "markdown",
   "metadata": {},
   "source": [
    "We use a Sine function to describe the dynamic topogrpahy:\n",
    "\n",
    "$$ z(x) = A \\cdot sin(\\pi \\cdot (x-\\nu t) / \\lambda) $$\n",
    "\n",
    "- $z_0$  amplitude\n",
    "- $\\nu$  velocity\n",
    "- $t$  time\n",
    "- $\\lambda$  wavelength"
   ]
  },
  {
   "cell_type": "code",
   "execution_count": null,
   "metadata": {},
   "outputs": [],
   "source": [
    "#help(dispDT.toolDynTopo.__init__)"
   ]
  },
  {
   "cell_type": "markdown",
   "metadata": {},
   "source": [
    "**Note**: you will need to create the folder where you want to store your tectonic file for this notebook to work. In the following case you will have to build the folder 'data/tectonicY'. It can be done by running the uncommented command (_i.e._ deleting the **#** key in front of the line) in the following cell:"
   ]
  },
  {
   "cell_type": "code",
   "execution_count": null,
   "metadata": {},
   "outputs": [],
   "source": [
    "!mkdir data/tectonicY"
   ]
  },
  {
   "cell_type": "code",
   "execution_count": null,
   "metadata": {},
   "outputs": [],
   "source": [
    "dyntopo = dispDT.toolDynTopo(extentX=[0,300000], extentY=[0,200000], dx=1000, filename='data/tectonicY/disp')"
   ]
  },
  {
   "cell_type": "markdown",
   "metadata": {},
   "source": [
    "## Generate and export the displacement files\n",
    "\n",
    "**Note:** Nodes are defined in increasing order from the South/West corner, first along the X axis."
   ]
  },
  {
   "cell_type": "code",
   "execution_count": null,
   "metadata": {},
   "outputs": [],
   "source": [
    "#help(dispDT.waveDT)"
   ]
  },
  {
   "cell_type": "code",
   "execution_count": null,
   "metadata": {},
   "outputs": [],
   "source": [
    "dispTimeStep=20000\n",
    "endTime=10000000  # 10 Myr\n",
    "dyntopo.waveDT(A=100, L=200000, V=0.05, endTime=endTime, dispTimeStep=dispTimeStep, axis='Y')"
   ]
  },
  {
   "cell_type": "markdown",
   "metadata": {},
   "source": [
    " ## Write the tectonic section for the XML input file\n",
    " \n",
    " You can then copy it in your XML file."
   ]
  },
  {
   "cell_type": "code",
   "execution_count": null,
   "metadata": {},
   "outputs": [],
   "source": [
    "for k in range(0,dyntopo.stepNb):\n",
    "    print(\"<disp>\")\n",
    "    print(\"    <dstart>\"+str(k*dispTimeStep)+\"</dstart>\")\n",
    "    print(\"    <dend>\"+str((k+1)*dispTimeStep)+\"</dend>\")\n",
    "    print(\"    <dfile>\"+dyntopo.filename+str(k)+\".csv</dfile>\")\n",
    "    print(\"</disp>\")"
   ]
  },
  {
   "cell_type": "code",
   "execution_count": null,
   "metadata": {},
   "outputs": [],
   "source": []
  }
 ],
 "metadata": {
  "kernelspec": {
   "display_name": "Python 3",
   "language": "python",
   "name": "python3"
  },
  "language_info": {
   "codemirror_mode": {
    "name": "ipython",
    "version": 3
   },
   "file_extension": ".py",
   "mimetype": "text/x-python",
   "name": "python",
   "nbconvert_exporter": "python",
   "pygments_lexer": "ipython3",
   "version": "3.5.3"
  }
 },
 "nbformat": 4,
 "nbformat_minor": 1
}
