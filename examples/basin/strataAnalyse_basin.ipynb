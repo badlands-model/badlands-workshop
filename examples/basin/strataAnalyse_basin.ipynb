{
 "cells": [
  {
   "cell_type": "markdown",
   "metadata": {},
   "source": [
    "# Analyse Badlands stratigraphic output\n",
    "\n",
    "If the stratigraphic structure is turned on in the XmL input file, **Badlands** produces sedimentary layers Hdf5 files. The stratigraphic layers are defined on a regularly spaced grid and a layer is recorded at each layer time interval given by the user.\n",
    "\n",
    "Here we show how we can visualise quickly the structure of the stratigraphic layer in an IPython notebook."
   ]
  },
  {
   "cell_type": "code",
   "execution_count": null,
   "metadata": {},
   "outputs": [],
   "source": [
    "import numpy as np\n",
    "import matplotlib.mlab as ml\n",
    "import matplotlib.pyplot as plt\n",
    "import scipy.ndimage.filters as filters\n",
    "from scipy.interpolate import RectBivariateSpline\n",
    "from scipy.ndimage.filters import gaussian_filter\n",
    "\n",
    "import stratalAnalyse_basin as strata\n",
    "\n",
    "# display plots in SVG format\n",
    "%config InlineBackend.figure_format = 'svg'\n",
    "%matplotlib inline"
   ]
  },
  {
   "cell_type": "markdown",
   "metadata": {},
   "source": [
    "# Loading stratigraphic file\n",
    "\n",
    "First we need to load the stratigraphic file. The files are located in the **h5/** folder in the simulation main output folder and are named using the following convention:\n",
    "- `sed.time`T`.hdf5`\n",
    "\n",
    "with T the display time index. \n",
    "\n",
    "To load a file you will need to give the folder name and the number of processors used in your simulation.\n",
    "\n",
    "For more information regarding the function uncomment the following line."
   ]
  },
  {
   "cell_type": "code",
   "execution_count": null,
   "metadata": {},
   "outputs": [],
   "source": [
    "# help(strata.stratalSection.__init__)"
   ]
  },
  {
   "cell_type": "code",
   "execution_count": null,
   "metadata": {},
   "outputs": [],
   "source": [
    "folder = 'output/h5/'\n",
    "strat = strata.stratalSection(folder)"
   ]
  },
  {
   "cell_type": "markdown",
   "metadata": {},
   "source": [
    "Then we need to load a particular output time interval (this is the T parameter in the hdf5 file name convention).\n",
    "\n",
    "**Note**\n",
    "\n",
    "This number is not always the number of sedimentary layers for this particular time step as you could have chosen in the input file to have more than 1 sedimentary layer recorded by output interval!"
   ]
  },
  {
   "cell_type": "code",
   "execution_count": null,
   "metadata": {},
   "outputs": [],
   "source": [
    "# help(strat.loadStratigraphy)"
   ]
  },
  {
   "cell_type": "code",
   "execution_count": null,
   "metadata": {},
   "outputs": [],
   "source": [
    "strat.loadStratigraphy(100) "
   ]
  },
  {
   "cell_type": "markdown",
   "metadata": {},
   "source": [
    "# Building a cross-section\n",
    "\n",
    "We then slice the stratigraphic mesh to visualise the sedimentary architecture along a given cross-section.\n",
    "\n",
    "To create the cross-section you will need to provide:\n",
    "+ the position of the segment in the simulation space _(xo,yo)_ and _(xm,ym)_, \n",
    "+ a gaussian filter value for smoothing (_gfilt_ a value of 0 can be used for non-smoothing) and \n",
    "+ the resolution of the cross-section (based on a number of points: _nbpts_). "
   ]
  },
  {
   "cell_type": "code",
   "execution_count": null,
   "metadata": {},
   "outputs": [],
   "source": [
    "# Build a cross-section along X axis\n",
    "x1 = np.amin(strat.x)\n",
    "x2 = np.amax(strat.x)\n",
    "y1 = np.amax(strat.x)/2\n",
    "y2 = np.amax(strat.x)/2\n",
    "\n",
    "# Interpolation parameters\n",
    "nbpts = strat.nx\n",
    "gfilt = 1"
   ]
  },
  {
   "cell_type": "code",
   "execution_count": null,
   "metadata": {},
   "outputs": [],
   "source": [
    "# help(strat.buildSection)"
   ]
  },
  {
   "cell_type": "code",
   "execution_count": null,
   "metadata": {},
   "outputs": [],
   "source": [
    "strat.buildSection(xo = x1, yo = y1, xm = x2, ym = y2, pts = nbpts, gfilter = gfilt)"
   ]
  },
  {
   "cell_type": "markdown",
   "metadata": {},
   "source": [
    "# Stratal stacking pattern\n",
    "\n",
    "We use **plotly** to visualise the vertival cross-section of stratal stacking apttern."
   ]
  },
  {
   "cell_type": "code",
   "execution_count": null,
   "metadata": {},
   "outputs": [],
   "source": [
    "#help(strata.viewSection)"
   ]
  },
  {
   "cell_type": "code",
   "execution_count": null,
   "metadata": {},
   "outputs": [],
   "source": [
    "strata.viewSection(width = 800, height = 500, cs = strat, \n",
    "            dnlay = 5, rangeX=[5000, 25000], rangeY=[-100,200],\n",
    "            linesize = 0.5, title='Stratal stacking pattern coloured by time')"
   ]
  },
  {
   "cell_type": "markdown",
   "metadata": {},
   "source": [
    "# Sequence stratigraphy methods proposed in this notebook\n",
    "\n",
    "New analytical methods are proposed in recent years on the interpretation of depositional systems. Here, we apply three methods, including \n",
    "+ **(i) the systems tracts method** in which the declaration of stratigraphic sequences is based on relative sea-level change; \n",
    "+ **(ii) the shoreline trajectory analysis** that defines different trajectory classes according to the migration of shoreline; \n",
    "+ **(iii) the accommodation sucession method** that focuses on the objective observation of depositional trends and then defines different sequence sets reponding to the competing ration between the change of accommodation and sediment supply."
   ]
  },
  {
   "cell_type": "markdown",
   "metadata": {},
   "source": [
    "# 1- Systems Tracts Method - based on relative sea-level\n",
    "\n",
    "There are several models of systems tracts within depositional sequences, here we use the most simple one called the four systems tract model (figure is from [Helland-Hansen & Hampson (2009)](http://onlinelibrary.wiley.com/wol1/doi/10.1111/j.1365-2117.2009.00425.x/full)): <img src=\"images/SystemsTract_RSL.png\" alt=\"Systems tract defined based on relative sea-level\"  width=\"300\" height=\"300\" border=\"10\" />\n",
    "- highstand systems tract **HST** \n",
    "- falling-stage systems tract **FSST**\n",
    "- lowstand systems tract **LST**\n",
    "- transgressive systems tract **TST**\n",
    "\n",
    "For each of these system tracts we define a given color. We use the 'colorlover' library [link](http://moderndata.plot.ly/color-scales-in-ipython-notebook/)"
   ]
  },
  {
   "cell_type": "markdown",
   "metadata": {},
   "source": [
    "## Relative base-level\n",
    "\n",
    "We first visualize the sea-level curve, and then extract **manually** the time intervals that bound different systems tracts, as showed in the above figure."
   ]
  },
  {
   "cell_type": "code",
   "execution_count": null,
   "metadata": {},
   "outputs": [],
   "source": [
    "time, Sealevel = strata.readSea('data/sealevel.csv') \n",
    "# There are 100 (=strat.nz) stratigraphic layers. We need to extract the sea level value of each stratigraphic layer.\n",
    "dnlay = int(time.shape[0]/strat.nz)\n",
    "Time = np.array(time[::dnlay])\n",
    "sealevel = np.array(Sealevel[::dnlay])\n",
    "timeStep = int(np.amax(time)/strat.nz) \n",
    "\n",
    "# Plot sea-level\n",
    "strata.viewData(x0 = Time/timeStep, y0 = sealevel, width = 600, height = 400, linesize = 3, \n",
    "                color = '#6666FF',title='Sea-level curve',xlegend='display steps',ylegend='sea-level position')"
   ]
  },
  {
   "cell_type": "markdown",
   "metadata": {},
   "source": [
    "We will assign 4 different colors based on relative sea-level change. To visualise the colors you can copy the html code below in the following [website](https://www.w3schools.com/cssref/tryit.asp?filename=trycss_color_rgba):\n",
    "\n",
    "```html\n",
    "<!DOCTYPE html><html>\n",
    "  <head>\n",
    "\t<style>\n",
    "      #p1 {background-color:rgba(213,139,214,0.8);}\n",
    "      #p2 {background-color:rgba(215,171,117,0.8);}\n",
    "      #p3 {background-color:rgba(39,123,70,0.8);}\n",
    "      #p4 {background-color:rgba(82,128,233,0.8);}\n",
    "    </style>\n",
    "  </head>\n",
    "  <body>\n",
    "    <p>RGB colors with opacity for Systems-Tracts:</p>\n",
    "    <p id=\"p1\">HST</p>\n",
    "    <p id=\"p2\">FSST</p>\n",
    "    <p id=\"p3\">LST</p>\n",
    "    <p id=\"p4\">TST</p>\n",
    "  </body>\n",
    "</html>\n",
    "```\n",
    "Define different colors for different systems tracts"
   ]
  },
  {
   "cell_type": "code",
   "execution_count": null,
   "metadata": {},
   "outputs": [],
   "source": [
    "cHST = 'rgba(213,139,214,0.8)' \n",
    "cFSST = 'rgba(215,171,117,0.8)' \n",
    "cLST = 'rgba(39,123,70,0.8)' \n",
    "cTST = 'rgba(82,128,233,0.8)' "
   ]
  },
  {
   "cell_type": "markdown",
   "metadata": {},
   "source": [
    "Specify the extent of every systems tracts according to the relative sea-level change"
   ]
  },
  {
   "cell_type": "code",
   "execution_count": null,
   "metadata": {},
   "outputs": [],
   "source": [
    "FSST1 = np.array([0,25],dtype=int)\n",
    "LST1 = np.array([25,32],dtype=int)\n",
    "TST1 = np.array([32,45],dtype=int)\n",
    "HST1 = np.array([45,50],dtype=int)\n",
    "FSST2 = np.array([50,75],dtype=int)\n",
    "LST2 = np.array([75,82],dtype=int)\n",
    "TST2 = np.array([82,95],dtype=int)\n",
    "HST2 = np.array([95,100],dtype=int)"
   ]
  },
  {
   "cell_type": "markdown",
   "metadata": {},
   "source": [
    "Build the color list for each systems tract"
   ]
  },
  {
   "cell_type": "code",
   "execution_count": null,
   "metadata": {},
   "outputs": [],
   "source": [
    "# Build the color list\n",
    "STcolors = []\n",
    "for k in range(FSST1[0],FSST1[1]):\n",
    "    STcolors.append(cFSST)\n",
    "for k in range(LST1[0],LST1[1]):\n",
    "    STcolors.append(cLST)\n",
    "for k in range(TST1[0],TST1[1]):\n",
    "    STcolors.append(cTST)\n",
    "for k in range(HST1[0],HST1[1]):\n",
    "    STcolors.append(cHST)\n",
    "for k in range(FSST2[0],FSST2[1]):\n",
    "    STcolors.append(cFSST)\n",
    "for k in range(LST2[0],LST2[1]):\n",
    "    STcolors.append(cLST)\n",
    "for k in range(TST2[0],TST2[1]):\n",
    "    STcolors.append(cTST)\n",
    "for k in range(HST2[0],HST2[1]):\n",
    "    STcolors.append(cHST)\n",
    "STcolors.append(cHST)"
   ]
  },
  {
   "cell_type": "markdown",
   "metadata": {},
   "source": [
    "## Plotting the resulting systems tracts"
   ]
  },
  {
   "cell_type": "code",
   "execution_count": null,
   "metadata": {},
   "outputs": [],
   "source": [
    "# help(strata.viewSectionST)"
   ]
  },
  {
   "cell_type": "code",
   "execution_count": null,
   "metadata": {},
   "outputs": [],
   "source": [
    "len(STcolors)"
   ]
  },
  {
   "cell_type": "code",
   "execution_count": null,
   "metadata": {},
   "outputs": [],
   "source": [
    "strata.viewSectionST(width = 800, height = 500, cs=strat, colors=STcolors,\n",
    "                   dnlay = 2, rangeX=[5000, 25000], rangeY=[-100,200], \n",
    "                   linesize=0.5, title='Systems tracts interpreted based on relative sea-level (RSL)')"
   ]
  },
  {
   "cell_type": "code",
   "execution_count": null,
   "metadata": {},
   "outputs": [],
   "source": []
  },
  {
   "cell_type": "code",
   "execution_count": null,
   "metadata": {},
   "outputs": [],
   "source": []
  }
 ],
 "metadata": {
  "anaconda-cloud": {},
  "kernelspec": {
   "display_name": "Python 3",
   "language": "python",
   "name": "python3"
  },
  "language_info": {
   "codemirror_mode": {
    "name": "ipython",
    "version": 3
   },
   "file_extension": ".py",
   "mimetype": "text/x-python",
   "name": "python",
   "nbconvert_exporter": "python",
   "pygments_lexer": "ipython3",
   "version": "3.5.3"
  }
 },
 "nbformat": 4,
 "nbformat_minor": 1
}
