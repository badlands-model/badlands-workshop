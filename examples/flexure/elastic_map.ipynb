{
 "cells": [
  {
   "cell_type": "markdown",
   "metadata": {},
   "source": [
    "# Build an elastic thickness grid\n",
    "\n",
    "Here we build a _non-uniform_ elastic thickness map (_Te_) that will be used to look at flexural response using **Badlands**.\n",
    "\n",
    "We set the dimension of the map based on the requested dimension from **Badlands XmL** input file."
   ]
  },
  {
   "cell_type": "code",
   "execution_count": null,
   "metadata": {},
   "outputs": [],
   "source": [
    "%matplotlib inline\n",
    "\n",
    "import numpy as np\n",
    "import pandas as pd\n",
    "import matplotlib.pyplot as plt\n",
    "\n",
    "# Reqested dimensions from XmL input file\n",
    "nx = 250\n",
    "ny = 100\n",
    "\n",
    "# Build a surface grid\n",
    "x = np.linspace(0, 1, nx)\n",
    "y = np.linspace(0, 1, ny)\n",
    "xv, yv = np.meshgrid(x, y)"
   ]
  },
  {
   "cell_type": "markdown",
   "metadata": {},
   "source": [
    "## Allocating a variable thickness\n",
    "\n",
    "Informations regarding lithospheric elastic thickness are available in this [article](http://www.sciencedirect.com/science/article/pii/S0921818111002220).\n",
    "\n",
    "For this particular case, the elastic thickness is set to 30 km except along the center region of the model where we use a _sine wave_ to define a thinner Te region (2 km thick)."
   ]
  },
  {
   "cell_type": "code",
   "execution_count": null,
   "metadata": {},
   "outputs": [],
   "source": [
    "Te_grid = np.zeros((ny,nx))\n",
    "\n",
    "# Amplitude of the wave\n",
    "A=-29500 \n",
    "# Period of the wave \n",
    "P=0.75\n",
    "# Initial tickness\n",
    "base= 30000.\n",
    "# Wave center line position\n",
    "ycenter=0.5\n",
    "\n",
    "Te_grid.fill(base)\n",
    "for j in range(0,ny):\n",
    "    for i in range(0,nx):\n",
    "        if abs(y[j] - ycenter) <= P*0.5:\n",
    "            Te_grid[j,i] = 0.5 * A * np.cos( 2.* np.pi * (y[j] - ycenter) / P) + base + 0.5 * A"
   ]
  },
  {
   "cell_type": "markdown",
   "metadata": {},
   "source": [
    "## Visualise elastic thickness grid"
   ]
  },
  {
   "cell_type": "code",
   "execution_count": null,
   "metadata": {},
   "outputs": [],
   "source": [
    "plt.pcolor(x, y, Te_grid, cmap='RdBu_r', vmin=Te_grid.min(), vmax=Te_grid.max(), shading='auto')\n",
    "# set the limits of the plot to the limits of the data\n",
    "plt.axis([x.min(), x.max(), y.min(), y.max()])\n",
    "plt.colorbar()"
   ]
  },
  {
   "cell_type": "markdown",
   "metadata": {},
   "source": [
    "## Create Te map for Badlands run"
   ]
  },
  {
   "cell_type": "code",
   "execution_count": null,
   "metadata": {},
   "outputs": [],
   "source": [
    "df = pd.DataFrame({'Z':Te_grid.flatten()})\n",
    "df.to_csv('data/TeGrid.csv',columns=['Z'], sep=' ', index=False ,header=0)"
   ]
  },
  {
   "cell_type": "code",
   "execution_count": null,
   "metadata": {},
   "outputs": [],
   "source": []
  }
 ],
 "metadata": {
  "kernelspec": {
   "display_name": "Python 3",
   "language": "python",
   "name": "python3"
  },
  "language_info": {
   "codemirror_mode": {
    "name": "ipython",
    "version": 3
   },
   "file_extension": ".py",
   "mimetype": "text/x-python",
   "name": "python",
   "nbconvert_exporter": "python",
   "pygments_lexer": "ipython3",
   "version": "3.5.3"
  }
 },
 "nbformat": 4,
 "nbformat_minor": 1
}
