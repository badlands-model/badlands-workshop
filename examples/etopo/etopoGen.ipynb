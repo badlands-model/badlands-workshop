{
 "cells": [
  {
   "cell_type": "markdown",
   "metadata": {},
   "source": [
    "# Topographic grid generation from etopo1\n",
    "\n",
    "\n",
    "In this notebook, we will see how to generate a regular topographic grid from a particular region that will have the desired format for running a badlands simulation.\n",
    "\n",
    "Badlands imports a regular grid that is later triangularized and used to compute erosion and deposition induced by a combination of climate, tectonics and sea-level changes.\n",
    "\n",
    "Here we use **ETOPO1** to create this initial grid. **ETOPO1** is a 1 arc-minute global relief model of Earth's surface that integrates land topography and ocean bathymetry. It was built from numerous global and regional data sets, and is available in \"Ice Surface\" (top of Antarctic and Greenland ice sheets) and \"Bedrock\" (base of the ice sheets) versions. The dataset is made available from **NOAA** webserver."
   ]
  },
  {
   "cell_type": "code",
   "execution_count": null,
   "metadata": {},
   "outputs": [],
   "source": [
    "%matplotlib inline\n",
    "\n",
    "# Import badlands grid generation toolbox\n",
    "import badlands_companion.toolGrid as tools\n",
    "\n",
    "# display plots in SVG format\n",
    "%config InlineBackend.figure_format = 'svg' "
   ]
  },
  {
   "cell_type": "markdown",
   "metadata": {},
   "source": [
    "# 1. Define region bounding box\n",
    "\n",
    "We first need to provide the extent of the area we want to get the topography from. \n",
    "\n",
    "This is done by specifying the min/max longitudes and latitudes:\n",
    "+ llcrnrlon: lower left corner longitude.\n",
    "+ llcrnrlat: lower left corner latitude.\n",
    "+ urcrnrlon: upper right corner longitude.\n",
    "+ urcrnrlat: upper right corner latitude.\n",
    "\n",
    "For more information regarding the function uncomment the following line."
   ]
  },
  {
   "cell_type": "code",
   "execution_count": null,
   "metadata": {},
   "outputs": [],
   "source": [
    "#help(tools.toolGrid.__init__)"
   ]
  },
  {
   "cell_type": "code",
   "execution_count": null,
   "metadata": {},
   "outputs": [],
   "source": [
    "grid = tools.toolGrid(llcrnrlon = 173.5, llcrnrlat = -42.5, urcrnrlon = 174.5, urcrnrlat = -41.5)"
   ]
  },
  {
   "cell_type": "markdown",
   "metadata": {},
   "source": [
    "# 2. Extract dataset from etopo1\n",
    "\n",
    "Instead of downloading the dataset on our local container, we use the NOAA THREDDS protocol to load the data from their server. The [dataset](http://www.ngdc.noaa.gov/thredds/dodsC/relief/ETOPO1/thredds/ETOPO1_Bed_g_gmt4.nc.html) is available in different format, here we choose to load the NETCDF file. Once the longitude and latitude for the entire grid has been loaded we only extract a subset (`getSubset` function) to download the values corresponding to the region of interest. \n",
    "\n",
    "The `getSubset` function  takes 3 parameters:\n",
    "+ tfile: type of topographic / bathymetric file to load using THREDDS protocol (only etopo1 for now).\n",
    "+ offset: offset to add to the grid to ensure the entire region of interest is still within the simulation area after reprojection in UTM coordinates.\n",
    "+ smooth: use or not of a smoothing filter.\n",
    "\n",
    "For more information regarding the function uncomment the following cell."
   ]
  },
  {
   "cell_type": "code",
   "execution_count": null,
   "metadata": {},
   "outputs": [],
   "source": [
    "#help(grid.getSubset)"
   ]
  },
  {
   "cell_type": "code",
   "execution_count": null,
   "metadata": {},
   "outputs": [],
   "source": [
    "grid.getSubset(tfile = 'etopo1', offset = 0.1, smooth = False)"
   ]
  },
  {
   "cell_type": "markdown",
   "metadata": {},
   "source": [
    "We know can use the `mapUTM` function to transform the dataset in **UTM** coordinates which is used to create Badlands grid. \n",
    "\n",
    "In addition the function creates a plot of the region based on exported **ETOPO1** dataset.\n",
    "\n",
    "For more information regarding the function uncomment the following cell."
   ]
  },
  {
   "cell_type": "code",
   "execution_count": null,
   "metadata": {},
   "outputs": [],
   "source": [
    "#help(grid.mapUTM)"
   ]
  },
  {
   "cell_type": "code",
   "execution_count": null,
   "metadata": {},
   "outputs": [],
   "source": [
    "grid.mapUTM(contour=50, fsize=(8,8), saveFig=False, nameFig='map')"
   ]
  },
  {
   "cell_type": "markdown",
   "metadata": {},
   "source": [
    "# 3. Export regular grid data\n",
    "\n",
    "In this final step, we export a **CSV** regular grid that will be loaded in the simulation. The file provides for each line the following information:\n",
    "+ X coordinates in meters (this axis has a West to East orientation),\n",
    "+ Y coordinates in meters (this axis has a South to West orientation), \n",
    "+ Z coordinates in meters.\n",
    "\n",
    "**Note:** Nodes must be defined in increasing order from the South/West corner, first along the X axis.\n",
    "\n",
    "\n",
    "The `buildGrid` function takes the grid resolution from the **ETOPO1** dataset and interpolates it on a new grid which has a resolution specified by the *resolution* parameter (in metres). The function provides 3 types of interpolation methods (*'linear', 'nearest', 'cubic'*).\n",
    "\n",
    "For more information regarding the function uncomment the following cell."
   ]
  },
  {
   "cell_type": "code",
   "execution_count": null,
   "metadata": {},
   "outputs": [],
   "source": [
    "#help(grid.buildGrid)"
   ]
  },
  {
   "cell_type": "code",
   "execution_count": null,
   "metadata": {},
   "outputs": [],
   "source": [
    "grid.buildGrid(resolution=250., method='cubic', nameCSV='xyz1')"
   ]
  },
  {
   "cell_type": "markdown",
   "metadata": {},
   "source": [
    "Using **plotly**, we visualise the created regular grid in 3D."
   ]
  },
  {
   "cell_type": "code",
   "execution_count": null,
   "metadata": {},
   "outputs": [],
   "source": [
    "#help(grid.viewGrid)"
   ]
  },
  {
   "cell_type": "code",
   "execution_count": null,
   "metadata": {},
   "outputs": [],
   "source": [
    "grid.viewGrid(width=900, height=600, zmin=-5000, zmax=5000, title='Export Grid')"
   ]
  },
  {
   "cell_type": "code",
   "execution_count": null,
   "metadata": {},
   "outputs": [],
   "source": []
  }
 ],
 "metadata": {
  "kernelspec": {
   "display_name": "Python 3",
   "language": "python",
   "name": "python3"
  },
  "language_info": {
   "codemirror_mode": {
    "name": "ipython",
    "version": 3
   },
   "file_extension": ".py",
   "mimetype": "text/x-python",
   "name": "python",
   "nbconvert_exporter": "python",
   "pygments_lexer": "ipython3",
   "version": "3.5.3"
  }
 },
 "nbformat": 4,
 "nbformat_minor": 1
}
