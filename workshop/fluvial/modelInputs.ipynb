{
 "cells": [
  {
   "cell_type": "markdown",
   "metadata": {},
   "source": [
    "# Initial settings\n",
    "\n",
    "<div class=\"alert alert-block alert-info\">Badlands imports a regular grid that is later triangularized and used to compute erosion and deposition induced by a combination of climate, tectonics and sea-level changes.</div>\n",
    "\n",
    "In this example, we will evaluate the effects of the **Stream Power Law** and the **Tool & Cover** on landscape dissection. \n",
    "\n",
    "We will conduct two numerical simulations of the dissection of an initial subdued landscape for these two cases. We will then track the evolution of erosion rate together with the evolution of topography, summarized by changes in the minimum, mean, and highest elevations of two diagnostic areas.\n",
    "\n",
    "In this first notebook we will build our synthetic landscape and the displacement file.\n",
    "\n",
    "***\n",
    "\n",
    "This is done in 2 steps:\n",
    "\n",
    "+ First we create a synthetic landscape composed of a 150 x 50 km plateau dotted with one 10 km in diameter relief with an elevation of 1,000 m. These residual relief is placed on the main drainage divide. \n",
    "\n",
    "+ Then this landscape experiences uplift at a rate of 200m/My during the first 5 My (cumulative uplift for the region 1000 m). We will then simulate a 5 My-long topographic decay. \n",
    "\n",
    "<img src=\"images/setting.jpg\" alt=\"geometry\" width=\"800\" height=\"400\"/>"
   ]
  },
  {
   "cell_type": "code",
   "execution_count": null,
   "metadata": {},
   "outputs": [],
   "source": [
    "%matplotlib inline\n",
    "\n",
    "import numpy as np\n",
    "\n",
    "# Import badlands grid generation toolbox\n",
    "import badlands_companion.toolGeo as simple\n",
    "# Import badlands displacement map generation toolbox\n",
    "import badlands_companion.toolTec as tec\n",
    "\n",
    "# display plots in SVG format\n",
    "%config InlineBackend.figure_format = 'svg' "
   ]
  },
  {
   "cell_type": "markdown",
   "metadata": {},
   "source": [
    "## Initial paleotopography\n",
    "\n",
    "We use the companion to create a half-ellipsoid (**dome**-like) surface. The ellipsoid equation center on ($x_o,y_o,z_o$) is of the form:\n",
    "\n",
    "$$ \\frac{(x-x_o)^2}{a^2} + \\frac{(y-y_o)^2}{b^2} + \\frac{(z-z_o)^2}{c^2} = 1 $$\n",
    "\n",
    "where $a,b,c$ are strictly positives and equal to the lenght of the ellipsoid half axes.\n",
    "\n",
    "We first initialize the extent of the simulation area.\n",
    "\n",
    "The function takes 3 arguments:\n",
    "+ the extent of the domain along the X-axis [xmin,xmax] in metres,\n",
    "+ the extent of the domain along the Y-axis [ymin,ymax] in metres,\n",
    "+ the grid spacing `dx` in metres.\n",
    "\n",
    "For more information regarding the function uncomment the following cell."
   ]
  },
  {
   "cell_type": "code",
   "execution_count": null,
   "metadata": {},
   "outputs": [],
   "source": [
    "#help(simple.toolGeo.__init__)"
   ]
  },
  {
   "cell_type": "code",
   "execution_count": null,
   "metadata": {},
   "outputs": [],
   "source": [
    "dome = simple.toolGeo(extentX=[0.,150000.], extentY=[0.,50000.], dx=500.)"
   ]
  },
  {
   "cell_type": "markdown",
   "metadata": {},
   "source": [
    "We create the dome wave by defining 6 parameters:\n",
    "\n",
    "+ the ellipsoif half axes: {a,b,c} in metres,\n",
    "+ the baselevel of the simulatin grid ($z_o$) in metres,\n",
    "+ the center of the dome {x,y} coordinates in metres.\n",
    "\n",
    "\n",
    "The function `buildDome` solves for the given parameters the following equation for the elevation:\n",
    "\n",
    "$$ z = z_o + c \\sqrt{1 - \\frac{(x-x_o)^2}{a^2} -\\frac{(y-y_o)^2}{b^2} } $$\n",
    "\n",
    "For more information regarding the function uncomment the following cell.\n"
   ]
  },
  {
   "cell_type": "code",
   "execution_count": null,
   "metadata": {},
   "outputs": [],
   "source": [
    "#help(dome.buildDome)"
   ]
  },
  {
   "cell_type": "code",
   "execution_count": null,
   "metadata": {},
   "outputs": [],
   "source": [
    "dome.Z = dome.buildDome(a=5000., b=5000., c=1000., base=0., xcenter=75000., ycenter=25000.)"
   ]
  },
  {
   "cell_type": "markdown",
   "metadata": {},
   "source": [
    "It is possible to have a look at the grid surface using plotly library before proceeding to the creation of the badlands surface."
   ]
  },
  {
   "cell_type": "code",
   "execution_count": null,
   "metadata": {},
   "outputs": [],
   "source": [
    "#help(dome.viewGrid)"
   ]
  },
  {
   "cell_type": "code",
   "execution_count": null,
   "metadata": {},
   "outputs": [],
   "source": [
    "dome.viewGrid(width=700, height=700, zmin=-800, zmax=2200, zData=dome.Z, title='Export Dome Grid')"
   ]
  },
  {
   "cell_type": "markdown",
   "metadata": {},
   "source": [
    "<div class=\"alert alert-block alert-info\">Beware the distortion of the mesh along the x-axis makes our shape looks strange but this is actually a _plotly_ problem and not an issue in the definition of our initial topography!</div>\n",
    "\n",
    "Once the surface has been generated, we export a **CSV** regular grid that will be loaded in the simulation. The file provides for each line the following information:\n",
    "+ X coordinates in meters (this axis has a West to East orientation),\n",
    "+ Y coordinates in meters (this axis has a South to West orientation), \n",
    "+ Z coordinates in meters.\n",
    "\n",
    "**Note:** Nodes must be defined in increasing order from the South/West corner, first along the X axis.\n",
    "\n",
    "The `buildGrid` function takes the return elevation from the `buildDome` function and creates the badlands grid in the appropriate format.\n",
    "\n",
    "For more information regarding the function uncomment the following cell."
   ]
  },
  {
   "cell_type": "code",
   "execution_count": null,
   "metadata": {},
   "outputs": [],
   "source": [
    "#help(dome.buildGrid)"
   ]
  },
  {
   "cell_type": "code",
   "execution_count": null,
   "metadata": {},
   "outputs": [],
   "source": [
    "dome.buildGrid(elevation=dome.Z, nameCSV='data/nodes')"
   ]
  },
  {
   "cell_type": "markdown",
   "metadata": {},
   "source": [
    "## Tectonic setting\n",
    "\n",
    "For our simulations we will generate a uniform vertical displacements (uplift) over the regular topographic grid.\n",
    "\n",
    "The displacement **CSV** file required by Badlands should provide the **cumulative vertical changes** through the simulated period for each node of the regular grid (in meters). \n",
    "\n",
    "For a given simulation, it is possible to upload several maps corresponding to different tectonic history. For each of these maps you will need to define the starting and ending time in the XmL input file.\n",
    "\n",
    "**Attention:** the file defines the *cumulative* displacement **and not** the displacement *rate*.\n",
    "\n",
    "**Note:** the nodes are read in increasing order based on the regular grid discretization starting from the South-West corner and going first along the X axis (West to East).\n",
    "\n",
    "Again to create this tectonic file, we also use the companion.\n",
    "\n",
    "+ First, we set up the dimension of the domain (similar to what is done for the topography grid)\n",
    "+ Then, we define the displacement values, with a cumulative uplift for the region of 1000 m. "
   ]
  },
  {
   "cell_type": "code",
   "execution_count": null,
   "metadata": {},
   "outputs": [],
   "source": [
    "dispclass = tec.toolTec(extentX=[0.,150000.], extentY=[0.,50000.], dx=500.)"
   ]
  },
  {
   "cell_type": "markdown",
   "metadata": {},
   "source": [
    "The displacement is then defined using the `dispclass.disp` variable. We first fill the array with the desired uplift value:"
   ]
  },
  {
   "cell_type": "code",
   "execution_count": null,
   "metadata": {},
   "outputs": [],
   "source": [
    "dispclass.disp = np.zeros(dispclass.Xgrid.shape)\n",
    "dispclass.disp.fill(1000.)"
   ]
  },
  {
   "cell_type": "markdown",
   "metadata": {},
   "source": [
    "We now impose a 0 displacement along the borders of the region:"
   ]
  },
  {
   "cell_type": "code",
   "execution_count": null,
   "metadata": {},
   "outputs": [],
   "source": [
    "dispclass.disp[0,:] = 0.\n",
    "dispclass.disp[-1,:] = 0.\n",
    "dispclass.disp[:,0] = 0.\n",
    "dispclass.disp[:,-1] = 0."
   ]
  },
  {
   "cell_type": "code",
   "execution_count": null,
   "metadata": {},
   "outputs": [],
   "source": [
    "dispclass.dispView(width=600, height=600, dispmin=0, dispmax=1000, dispData=dispclass.disp, title='Export Grid')"
   ]
  },
  {
   "cell_type": "markdown",
   "metadata": {},
   "source": [
    "Ok sounds all right, now we wrote the displacement file in the `data` folder:"
   ]
  },
  {
   "cell_type": "code",
   "execution_count": null,
   "metadata": {},
   "outputs": [],
   "source": [
    "dispclass.dispGrid(disp=dispclass.disp, nameCSV='data/displacement')"
   ]
  },
  {
   "cell_type": "code",
   "execution_count": null,
   "metadata": {},
   "outputs": [],
   "source": []
  }
 ],
 "metadata": {
  "kernelspec": {
   "display_name": "Python 3",
   "language": "python",
   "name": "python3"
  },
  "language_info": {
   "codemirror_mode": {
    "name": "ipython",
    "version": 3
   },
   "file_extension": ".py",
   "mimetype": "text/x-python",
   "name": "python",
   "nbconvert_exporter": "python",
   "pygments_lexer": "ipython3",
   "version": "3.5.3"
  }
 },
 "nbformat": 4,
 "nbformat_minor": 1
}
