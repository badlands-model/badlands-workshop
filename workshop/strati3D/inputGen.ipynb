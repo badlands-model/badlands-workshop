{
 "cells": [
  {
   "cell_type": "markdown",
   "metadata": {},
   "source": [
    "# Topographic grid generation and tectonics\n",
    "\n",
    "\n",
    "In this notebook, we will see how to generate a regular topographic grid from a particular region that will have the desired format for running a badlands simulation.\n",
    "\n",
    "Badlands imports a regular grid that is later triangularized and used to compute erosion and deposition induced by a combination of climate, tectonics and sea-level changes.\n",
    "\n",
    "Here we use **ETOPO1** to create this initial grid. **ETOPO1** is a 1 arc-minute global relief model of Earth's surface that integrates land topography and ocean bathymetry. It was built from numerous global and regional data sets, and is available in \"Ice Surface\" (top of Antarctic and Greenland ice sheets) and \"Bedrock\" (base of the ice sheets) versions. "
   ]
  },
  {
   "cell_type": "code",
   "execution_count": null,
   "metadata": {},
   "outputs": [],
   "source": [
    "import numpy as np\n",
    "import pandas as pd\n",
    "import matplotlib\n",
    "import numpy.ma as ma\n",
    "import matplotlib.pyplot as plt\n",
    "import matplotlib.colors as colors\n",
    "from scipy.ndimage import gaussian_filter\n",
    "from mpl_toolkits.axes_grid1 import make_axes_locatable\n",
    "\n",
    "# Import badlands grid generation toolbox\n",
    "import badlands_companion.toolGrid as tools\n",
    "\n",
    "# display plots in SVG format\n",
    "%matplotlib inline\n",
    "%config InlineBackend.figure_format = 'svg' "
   ]
  },
  {
   "cell_type": "markdown",
   "metadata": {},
   "source": [
    "# 1. Define region bounding box\n",
    "\n",
    "We first need to provide the extent of the area we want to get the topography from. \n",
    "\n",
    "This is done by specifying the min/max longitudes and latitudes:\n",
    "+ llcrnrlon: lower left corner longitude.\n",
    "+ llcrnrlat: lower left corner latitude.\n",
    "+ urcrnrlon: upper right corner longitude.\n",
    "+ urcrnrlat: upper right corner latitude.\n",
    "\n",
    "For more information regarding the function uncomment the following line."
   ]
  },
  {
   "cell_type": "code",
   "execution_count": null,
   "metadata": {},
   "outputs": [],
   "source": [
    "#help(tools.toolGrid.__init__)"
   ]
  },
  {
   "cell_type": "code",
   "execution_count": null,
   "metadata": {},
   "outputs": [],
   "source": [
    "grid = tools.toolGrid(llcrnrlon = 156.5, llcrnrlat = 57.4, urcrnrlon = 162., urcrnrlat = 59.3)"
   ]
  },
  {
   "cell_type": "markdown",
   "metadata": {},
   "source": [
    "# 2. Extract dataset from etopo1\n",
    "\n",
    "Instead of downloading the dataset on our local container, we use the NOAA THREDDS protocol to load the data from their server. The [dataset](http://www.ngdc.noaa.gov/thredds/dodsC/relief/ETOPO1/thredds/ETOPO1_Bed_g_gmt4.nc.html) is available in different format, here we choose to load the NETCDF file. Once the longitude and latitude for the entire grid has been loaded we only extract a subset (`getSubset` function) to download the values corresponding to the region of interest. \n",
    "\n",
    "The `getSubset` function  takes 3 parameters:\n",
    "+ tfile: type of topographic / bathymetric file to load using THREDDS protocol (only etopo1 for now).\n",
    "+ offset: offset to add to the grid to ensure the entire region of interest is still within the simulation area after reprojection in UTM coordinates.\n",
    "+ smooth: use or not of a smoothing filter.\n",
    "\n",
    "For more information regarding the function uncomment the following cell."
   ]
  },
  {
   "cell_type": "code",
   "execution_count": null,
   "metadata": {},
   "outputs": [],
   "source": [
    "grid.getSubset(tfile = 'etopo1', offset = 0.1, smooth = False)"
   ]
  },
  {
   "cell_type": "markdown",
   "metadata": {},
   "source": [
    "We know can use the `mapUTM` function to transform the dataset in **UTM** coordinates which is used to create Badlands grid. \n",
    "\n",
    "In addition the function creates a plot of the region based on exported **ETOPO1** dataset.\n",
    "\n",
    "For more information regarding the function uncomment the following cell."
   ]
  },
  {
   "cell_type": "code",
   "execution_count": null,
   "metadata": {},
   "outputs": [],
   "source": [
    "#help(grid.mapUTM)"
   ]
  },
  {
   "cell_type": "code",
   "execution_count": null,
   "metadata": {},
   "outputs": [],
   "source": [
    "grid.mapUTM(contour=50, fsize=(8,8), saveFig=False, nameFig='map')"
   ]
  },
  {
   "cell_type": "markdown",
   "metadata": {},
   "source": [
    "# 3. Export regular grid data\n",
    "\n",
    "We now export a **CSV** regular grid that will be loaded in the simulation. The file provides for each line the following information:\n",
    "+ X coordinates in meters (this axis has a West to East orientation),\n",
    "+ Y coordinates in meters (this axis has a South to West orientation), \n",
    "+ Z coordinates in meters.\n",
    "\n",
    "**Note:** Nodes must be defined in increasing order from the South/West corner, first along the X axis.\n",
    "\n",
    "\n",
    "The `buildGrid` function takes the grid resolution from the **ETOPO1** dataset and interpolates it on a new grid which has a resolution specified by the *resolution* parameter (in metres). The function provides 3 types of interpolation methods (*'linear', 'nearest', 'cubic'*).\n",
    "\n",
    "For more information regarding the function uncomment the following cell."
   ]
  },
  {
   "cell_type": "code",
   "execution_count": null,
   "metadata": {},
   "outputs": [],
   "source": [
    "grid.buildGrid(resolution=2000., method='cubic', nameCSV='data/strat')"
   ]
  },
  {
   "cell_type": "markdown",
   "metadata": {},
   "source": [
    "# 4. Changing elevation\n",
    "\n",
    "Here we show how you can access the elevation file and apply some topographic modifications."
   ]
  },
  {
   "cell_type": "code",
   "execution_count": null,
   "metadata": {},
   "outputs": [],
   "source": [
    "# Creating XY (horizontal) mesh\n",
    "dx = 2000.\n",
    "xgrid = np.arange(0,dx*grid.xi.shape[1],dx)\n",
    "ygrid = np.arange(0,dx*grid.xi.shape[0],dx)\n",
    "xi, yi = np.meshgrid(xgrid, ygrid)\n",
    "\n",
    "# Reading elevation mesh\n",
    "df = pd.read_csv(\"data/strat.csv\",header=None, names=['X', 'Y', 'Z'],sep=r'\\s+')\n",
    "zmat = df.values[:,2].reshape(grid.xi.shape)\n",
    "\n",
    "# Smoothing and rounding the elevation surface\n",
    "zgauss = gaussian_filter(zmat, sigma=1)\n",
    "zdec = np.around(zgauss, decimals=3)\n",
    "nz = zgauss.reshape(grid.xi.shape)\n",
    "\n",
    "# Writting the smoothed elevation grid on disk\n",
    "df.to_csv('data/elev.csv',columns=['X', 'Y', 'Z'], sep=' ', index=False ,header=0)"
   ]
  },
  {
   "cell_type": "markdown",
   "metadata": {},
   "source": [
    "Let us plot the new elevation"
   ]
  },
  {
   "cell_type": "code",
   "execution_count": null,
   "metadata": {},
   "outputs": [],
   "source": [
    "fig = plt.figure(figsize=(9, 7))\n",
    "\n",
    "# make topo_mask a masked array, masking values lower than sea level.\n",
    "topo_nz = np.where(nz < 0.,1.e10,nz)\n",
    "topo_mask = ma.masked_values(topo_nz, 1.e10)\n",
    "\n",
    "# make bathy_mask a masked array, masking values greater than sea level.\n",
    "bathy_nz = np.where(nz >= 0.,1.e10,nz)\n",
    "bathy_mask = ma.masked_values(bathy_nz, 1.e10)\n",
    "\n",
    "palette = plt.cm.RdYlGn_r\n",
    "palette2 = plt.cm.Blues_r\n",
    "im = plt.imshow(np.flipud(topo_mask),palette,\n",
    "                norm=colors.Normalize(vmin=0.0,vmax=2000.0,clip=False))\n",
    "im2 = plt.imshow(np.flipud(bathy_mask),palette2,\n",
    "                 norm=colors.Normalize(vmin=-200.0,vmax=0.0,clip=False))\n",
    "\n",
    "ax = plt.gca()\n",
    "ax.contour(nz, [0], colors='k', origin='image', linewidths=3)\n",
    "\n",
    "divider = make_axes_locatable(ax)\n",
    "cax = divider.append_axes(\"right\", size=\"2%\", pad=0.3)\n",
    "cax2 = divider.append_axes(\"right\", size=\"2%\", pad=0.6)\n",
    "\n",
    "cbar = plt.colorbar(im, cax=cax)\n",
    "cbar2 = plt.colorbar(im2, cax=cax2)\n",
    "cbar2.set_label('elevation',size=10,fontweight='bold')\n",
    "\n",
    "fig.tight_layout()"
   ]
  },
  {
   "cell_type": "markdown",
   "metadata": {},
   "source": [
    "# 5. Building a simple tectonic history \n",
    "\n",
    "Now we will create our own tectonic files. \n",
    "\n",
    "Here and for simplicity, we will use the topography to create the uplift/subsidence file called `upsub` in the cell below.\n",
    "\n",
    "We apply some simple rules.\n",
    "\n",
    "### First rule:\n",
    "\n",
    "Building `upsub` array:\n",
    "+ uplift on the land area: 100 m for elevation between sea-level and 400 m elevation.\n",
    "+ uplift on the land area: 1000 m for elevation above 400 m elevation.\n",
    "+ subsidence offshore: -1000 m for elevation between sea-level and -150 m depth.\n",
    "+ subsidence offshore: -500 m for elevation below -150 m depth.\n",
    "\n",
    "\n",
    "### Second rule:\n",
    "\n",
    "Building `upsub_ld` array:\n",
    "+ uplift on the land area: 100 m for elevation between sea-level and 200 m elevation.\n",
    "+ uplift on the land area: 1800 m above 200 m elevation.\n",
    "\n",
    "\n",
    "### Third rule:\n",
    "\n",
    "Building `upsub_sea` array:\n",
    "+ subsidence offshore: -1000 m for elevation between sea-level and -100 m depth.\n",
    "+ subsidence offshore: -500 m for elevation between -100 m and -150 m depth.\n",
    "+ subsidence offshore: -100 m for elevation below -150 m depth.\n",
    "\n",
    "### Fourth rule:\n",
    "\n",
    "Building loacal subsidence `locsub` in a specific area:\n",
    "\n",
    "+ subsidence in the region located between [50:100,300:400]: -800 m for elevation below 100 m."
   ]
  },
  {
   "cell_type": "code",
   "execution_count": null,
   "metadata": {},
   "outputs": [],
   "source": [
    "upsub = np.zeros(nz.shape)\n",
    "upsub[nz>=0] = 100.\n",
    "upsub[nz>=400] = 1000.\n",
    "upsub[nz<0] = -1000.\n",
    "upsub[nz<-150] = -500.\n",
    "\n",
    "upsub_ld = np.zeros(nz.shape)\n",
    "upsub_ld[nz>=0] = 100.\n",
    "upsub_ld[nz>=200] = 1800.\n",
    "\n",
    "upsub_sea = np.zeros(nz.shape)\n",
    "upsub_sea[nz<0] = -1000.\n",
    "upsub_sea[nz<-100] = -500.\n",
    "upsub_sea[nz<-150] = -100.\n",
    "\n",
    "locsub = np.zeros(nz.shape)\n",
    "locsub[50:100,300:400] = -800.\n",
    "locsub[nz>100] = 0."
   ]
  },
  {
   "cell_type": "markdown",
   "metadata": {},
   "source": [
    "We now apply a gaussian filter to smooth each of these tectonic grids and combine them together to create a unique tectonic field. \n",
    "\n",
    "In **badlands** the tectonic file contains the cumulative displacements and the rate will therefore be dependent on the simulation time provided in the XML input file."
   ]
  },
  {
   "cell_type": "code",
   "execution_count": null,
   "metadata": {},
   "outputs": [],
   "source": [
    "gupsub_ld = gaussian_filter(upsub_ld, sigma=10)\n",
    "gupsub_ld[upsub_ld<0] = 0.\n",
    "\n",
    "gupsub_sea = gaussian_filter(upsub_sea, sigma=20)\n",
    "gupsub_sea[gupsub_sea>0] = 0.\n",
    "\n",
    "glocsub = gaussian_filter(locsub, sigma=10)\n",
    "glocsub[glocsub>0] = 0.\n",
    "\n",
    "glupsub = gupsub_ld+gupsub_sea+glocsub\n",
    "gupsub = gaussian_filter(glupsub, sigma=1)*4."
   ]
  },
  {
   "cell_type": "markdown",
   "metadata": {},
   "source": [
    "The tectonic map looks like:"
   ]
  },
  {
   "cell_type": "code",
   "execution_count": null,
   "metadata": {},
   "outputs": [],
   "source": [
    "fig = plt.figure(figsize=(9, 7))\n",
    "\n",
    "# make topo_mask a masked array, masking values lower than sea level.\n",
    "topo_nz = np.where(gupsub < 0.,1.e10,gupsub)\n",
    "topo_mask = ma.masked_values(topo_nz, 1.e10)\n",
    "\n",
    "# make bathy_mask a masked array, masking values greater than sea level.\n",
    "bathy_nz = np.where(gupsub >= 0.,1.e10,gupsub)\n",
    "bathy_mask = ma.masked_values(bathy_nz, 1.e10)\n",
    "\n",
    "palette = plt.cm.RdYlGn_r\n",
    "palette2 = plt.cm.Blues_r\n",
    "im = plt.imshow(np.flipud(topo_mask),palette,\n",
    "                norm=colors.Normalize(vmin=0.0,vmax=9000.0,clip=False))\n",
    "im2 = plt.imshow(np.flipud(bathy_mask),palette2,\n",
    "                 norm=colors.Normalize(vmin=-4000.0,vmax=0.0,clip=False))\n",
    "\n",
    "ax = plt.gca()\n",
    "ax.contour(gupsub, [0], colors='k', origin='image', linewidths=3)\n",
    "\n",
    "divider = make_axes_locatable(ax)\n",
    "cax = divider.append_axes(\"right\", size=\"2%\", pad=0.3)\n",
    "cax2 = divider.append_axes(\"right\", size=\"2%\", pad=0.6)\n",
    "\n",
    "cbar = plt.colorbar(im, cax=cax)\n",
    "cbar2 = plt.colorbar(im2, cax=cax2)\n",
    "cbar2.set_label('displacement',size=10,fontweight='bold')\n",
    "\n",
    "fig.tight_layout()"
   ]
  },
  {
   "cell_type": "markdown",
   "metadata": {},
   "source": [
    "We now write this tectonic map on disk."
   ]
  },
  {
   "cell_type": "code",
   "execution_count": null,
   "metadata": {},
   "outputs": [],
   "source": [
    "df = pd.DataFrame({'UpliftSubsidence':gupsub.flatten()})\n",
    "df.to_csv('tectonic.csv',columns=['UpliftSubsidence'], sep=' ', index=False ,header=0)"
   ]
  },
  {
   "cell_type": "code",
   "execution_count": null,
   "metadata": {},
   "outputs": [],
   "source": []
  }
 ],
 "metadata": {
  "kernelspec": {
   "display_name": "Python 3",
   "language": "python",
   "name": "python3"
  },
  "language_info": {
   "codemirror_mode": {
    "name": "ipython",
    "version": 3
   },
   "file_extension": ".py",
   "mimetype": "text/x-python",
   "name": "python",
   "nbconvert_exporter": "python",
   "pygments_lexer": "ipython3",
   "version": "3.5.3"
  }
 },
 "nbformat": 4,
 "nbformat_minor": 1
}
